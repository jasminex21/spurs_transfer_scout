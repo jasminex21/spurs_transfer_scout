


import pandas as pd
import soccerdata as sd


# 24/25 data
FBREF = sd.FBref(leagues="ENG-Premier League", seasons=2024)
FBREF





# grab all relevant statistics
player_stats = FBREF.read_player_season_stats(stat_type="standard")
player_defense = FBREF.read_player_season_stats(stat_type="defense")
player_passing = FBREF.read_player_season_stats(stat_type="passing")
player_shooting = FBREF.read_player_season_stats(stat_type="shooting")
player_keeper = FBREF.read_player_season_stats(stat_type="keeper")


player_stats.head()


# unique positions
player_stats["pos"].unique()





player_stats[player_stats["pos"] == "MF"]


tm_player_stats = pd.read_csv("PL2425_player_stats.csv")
tm_player_stats


tm_player_stats['minutes_played'].describe()


tm_player_stats500 = tm_player_stats[tm_player_stats["minutes_played"] >= 500]
tm_player_stats500


# the last 3 positions are outlying - see Rmd file
tm_player_stats500["player_pos"].unique()


# dorgu and j. ramsey - both left backs
tm_player_stats500[tm_player_stats500["player_pos"] == "Left Midfield"]


# rodrigo gomes is a right winger
tm_player_stats500[tm_player_stats500["player_pos"] == "Right Midfield"]


tm_player_stats500[tm_player_stats500["player_pos"] == "Second Striker"]


tm_player_stats500.loc[tm_player_stats500["player_pos"] == "Second Striker", "player_pos"] = "Centre-Forward"
tm_player_stats500.loc[tm_player_stats500["player_pos"] == "Left Midfield", "player_pos"] = "Left-Back"
tm_player_stats500.loc[tm_player_stats500["player_pos"] == "Right Midfield", "player_pos"] = "Right Winger"


tm_player_stats500["player_pos"].unique()





# drop the multilevel index
player_stats = player_stats.reset_index()
player_defense = player_defense.reset_index()
player_passing = player_passing.reset_index()
player_shooting = player_shooting.reset_index()
player_keeper = player_keeper.reset_index()
player_stats


player_stats500 = player_stats[player_stats["Playing Time"]['Min'] > 500]
player_stats500


len(set(player_stats500['player']) & set(tm_player_stats500['player_name']))


# players unaccounted for in the primary dataset
set(player_stats500['player']) - set(tm_player_stats500['player_name'])


tm_player_stats500.loc[tm_player_stats500["player_name"] == "Emerson", "player_name"] = "Emerson Palmieri"
tm_player_stats500.loc[tm_player_stats500["player_name"] == "Idrissa Gueye", "player_name"] = "Idrissa Gana Gueye"
tm_player_stats500.loc[tm_player_stats500["player_name"] == "Ilya Zabarnyi", "player_name"] = "Illia Zabarnyi"
tm_player_stats500.loc[tm_player_stats500["player_name"] == "Josko Gvardiol", "player_name"] = "Joško Gvardiol"
tm_player_stats500.loc[tm_player_stats500["player_name"] == "Jurrien Timber", "player_name"] = "Jurriën Timber"
tm_player_stats500.loc[tm_player_stats500["player_name"] == "Mateo Kovacic", "player_name"] = "Mateo Kovačić"
tm_player_stats500.loc[tm_player_stats500["player_name"] == "Maximilian Kilman", "player_name"] = "Max Kilman"
tm_player_stats500.loc[tm_player_stats500["player_name"] == "Heung-min Son", "player_name"] = "Son Heung-min"
tm_player_stats500.loc[tm_player_stats500["player_name"] == "Tomas Soucek", "player_name"] = "Tomáš Souček"
tm_player_stats500.loc[tm_player_stats500["player_name"] == "Toti", "player_name"] = "Toti Gomes"
tm_player_stats500.loc[tm_player_stats500["player_name"] == "Tino Livramento", "player_name"] = "Valentino Livramento"
tm_player_stats500.loc[tm_player_stats500["player_name"] == "Victor Kristiansen", "player_name"] = "Victor Bernth Kristiansen"


set(player_stats500['player']) - set(tm_player_stats500['player_name'])


tm_player_stats500 = tm_player_stats500.rename(columns={"player_name": "player"})
tm_player_stats500


player_stats500.columns.get_level_values(1)


player_stats500.columns = player_stats.columns.get_level_values(1)
player_stats500


player_stats500.columns.values[0] = "league"
player_stats500.columns.values[1] = "season"
player_stats500.columns.values[2] = "team"
player_stats500.columns.values[3] = "player"
player_stats500.columns.values[4] = "nation"
player_stats500.columns.values[5] = "pos"
player_stats500.columns.values[6] = "age"
player_stats500.columns.values[7] = "born"
player_stats500


full_player_stats = player_stats500.merge(tm_player_stats500[["player", "player_pos"]], how="left", on="player")
full_player_stats


full_player_stats.to_csv("PL2425_500min_player_stats.csv")


full_player_stats = pd.read_csv("PL2425_500min_player_stats.csv")
full_player_stats.head()


full_player_stats["player_pos"].unique()








fbref_keeper = FBREF.read_player_season_stats(stat_type="keeper")
fbref_keeper_adv = FBREF.read_player_season_stats(stat_type="keeper_adv")


def flatten_df(df): 
    df = df.reset_index()
    df.columns = df.columns.get_level_values(1)
    df.columns.values[0] = "league"
    df.columns.values[1] = "season"
    df.columns.values[2] = "team"
    df.columns.values[3] = "player"
    df.columns.values[4] = "nation"
    df.columns.values[5] = "pos"
    df.columns.values[6] = "age"
    df.columns.values[7] = "born"
    
    return df


fbref_keeper = flatten_df(fbref_keeper)
fbref_keeper


fbref_keeper_adv = flatten_df(fbref_keeper_adv)
fbref_keeper_adv


all_keeper_data = fbref_keeper.merge(fbref_keeper_adv, how="left", on="player")
all_keeper_data


all_keeper_data.columns


def filter_position_df(df, position, cols_to_keep):
    # only keep players present in 500min dataset
    df = df[df["player"].isin(list(full_player_stats['player']))]    
    # merge with 500min dataset to get full position name
    df = df.merge(full_player_stats[["player", "player_pos"]], how="left", on="player")
    # only keep players of given position
    df = df[df["player_pos"] == position]
    df = df[cols_to_keep]

    return df


filter_position_df(all_keeper_data, "Goalkeeper", ["team_x", "player", "nation_x", 
                                                   "player_pos", "Min", "GA90", "Saves", 
                                                   "Save%", '/90', "Cmp%", "#OPA/90"])


FBREF.read_player_season_stats(stat_type="shooting")



